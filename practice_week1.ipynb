{
 "cells": [
  {
   "cell_type": "code",
   "execution_count": 2,
   "metadata": {},
   "outputs": [],
   "source": [
    "import numpy as np\n",
    "import pandas as pd\n",
    "from bs4 import BeautifulSoup\n",
    "import requests\n",
    "import math"
   ]
  },
  {
   "cell_type": "code",
   "execution_count": null,
   "metadata": {},
   "outputs": [],
   "source": []
  },
  {
   "cell_type": "code",
   "execution_count": 3,
   "metadata": {},
   "outputs": [
    {
     "data": {
      "text/plain": [
       "<html>\n",
       "<head><title>Table Example</title></head>\n",
       "<body>\n",
       "<table>\n",
       "<caption id=\"summary\">Summary Table</caption>\n",
       "<tr>\n",
       "<th>Item</th>\n",
       "<th>Quantity</th>\n",
       "</tr>\n",
       "<tr>\n",
       "<td>Apples</td>\n",
       "<td>10</td>\n",
       "</tr>\n",
       "</table>\n",
       "<table>\n",
       "<caption id=\"details\">Details Table</caption>\n",
       "<tr>\n",
       "<th>Date</th>\n",
       "<th>Event</th>\n",
       "</tr>\n",
       "<tr>\n",
       "<td>2024-08-01</td>\n",
       "<td>Meeting</td>\n",
       "</tr>\n",
       "</table>\n",
       "</body>\n",
       "</html>"
      ]
     },
     "execution_count": 3,
     "metadata": {},
     "output_type": "execute_result"
    }
   ],
   "source": [
    "f = open(\"/Users/rebekahzhou/Downloads/test1.html\", 'r')\n",
    "soup = BeautifulSoup(f, \"lxml\")\n",
    "soup\n"
   ]
  },
  {
   "cell_type": "code",
   "execution_count": 4,
   "metadata": {},
   "outputs": [
    {
     "data": {
      "text/plain": [
       "<table>\n",
       "<caption id=\"details\">Details Table</caption>\n",
       "<tr>\n",
       "<th>Date</th>\n",
       "<th>Event</th>\n",
       "</tr>\n",
       "<tr>\n",
       "<td>2024-08-01</td>\n",
       "<td>Meeting</td>\n",
       "</tr>\n",
       "</table>"
      ]
     },
     "execution_count": 4,
     "metadata": {},
     "output_type": "execute_result"
    }
   ],
   "source": [
    "details = soup.find('caption', id='details')\n",
    "details.parent"
   ]
  },
  {
   "cell_type": "code",
   "execution_count": 5,
   "metadata": {},
   "outputs": [
    {
     "data": {
      "text/plain": [
       "[['Item', 'Quantity'], ['Date', 'Event']]"
      ]
     },
     "execution_count": 5,
     "metadata": {},
     "output_type": "execute_result"
    }
   ],
   "source": [
    "trs = soup.find_all('tr')\n",
    "ans = []\n",
    "for tr in trs[0:3:2]:\n",
    "    ths = tr.find_all('th')\n",
    "    arr = []\n",
    "    for th in ths:\n",
    "        arr.append(th.get_text())\n",
    "    ans.append(arr)\n",
    "ans\n"
   ]
  },
  {
   "cell_type": "code",
   "execution_count": 6,
   "metadata": {},
   "outputs": [],
   "source": [
    "text = \"\"\"\n",
    "<!DOCTYPE html>\n",
    "<html>\n",
    "    <div id=\"product-info\" class=\"product featured\" data-category=\"electronics\"\n",
    "    data-price=\"499.99\" style=\"background-color: #f9f9f9;\">\n",
    "        <h2>Smartphone X</h2>\n",
    "        <p>Latest model with advanced features.</p>\n",
    "    </div>\n",
    "</html>\n",
    "\"\"\""
   ]
  },
  {
   "cell_type": "code",
   "execution_count": 7,
   "metadata": {},
   "outputs": [
    {
     "data": {
      "text/plain": [
       "<!DOCTYPE html>\n",
       "<html>\n",
       "<body><div class=\"product featured\" data-category=\"electronics\" data-price=\"499.99\" id=\"product-info\" style=\"background-color: #f9f9f9;\">\n",
       "<h2>Smartphone X</h2>\n",
       "<p>Latest model with advanced features.</p>\n",
       "</div>\n",
       "</body></html>"
      ]
     },
     "execution_count": 7,
     "metadata": {},
     "output_type": "execute_result"
    }
   ],
   "source": [
    "soup = BeautifulSoup(text, \"lxml\")\n",
    "soup"
   ]
  },
  {
   "cell_type": "code",
   "execution_count": 8,
   "metadata": {},
   "outputs": [
    {
     "data": {
      "text/plain": [
       "{'id': 'product-info',\n",
       " 'class': ['product', 'featured'],\n",
       " 'data-category': 'electronics',\n",
       " 'data-price': '499.99',\n",
       " 'style': 'background-color: #f9f9f9;'}"
      ]
     },
     "execution_count": 8,
     "metadata": {},
     "output_type": "execute_result"
    }
   ],
   "source": [
    "div = soup.find('div', id='product-info')\n",
    "div.attrs\n"
   ]
  },
  {
   "cell_type": "code",
   "execution_count": 9,
   "metadata": {},
   "outputs": [],
   "source": [
    "shopping_list = \"\"\"\n",
    "<html>\n",
    "<head><title>Shopping List</title></head>\n",
    "<body>\n",
    "    <h1>Shopping List</h1>\n",
    "    <section id=\"items\">\n",
    "        <ul>\n",
    "            <li class=\"category\" data-category=\"fruit\">Apple</li>\n",
    "            <li class=\"category\" data-category=\"vegetable\">Carrot</li>\n",
    "            <li class=\"category\" data-category=\"fruit\">Banana</li>\n",
    "            <li class=\"category\" data-category=\"dairy\">Milk</li>\n",
    "            <li class=\"category\" data-category=\"fruit\">Orange</li>\n",
    "        </ul>\n",
    "    </section>\n",
    "    <footer>\n",
    "        <p>Contact us at support@example.com</p>\n",
    "    </footer>\n",
    "</body>\n",
    "</html>\n",
    "\"\"\""
   ]
  },
  {
   "cell_type": "code",
   "execution_count": 10,
   "metadata": {},
   "outputs": [
    {
     "data": {
      "text/plain": [
       "\n",
       "<html>\n",
       "<head><title>Shopping List</title></head>\n",
       "<body>\n",
       "<h1>Shopping List</h1>\n",
       "<section id=\"items\">\n",
       "<ul>\n",
       "<li class=\"category\" data-category=\"fruit\">Apple</li>\n",
       "<li class=\"category\" data-category=\"vegetable\">Carrot</li>\n",
       "<li class=\"category\" data-category=\"fruit\">Banana</li>\n",
       "<li class=\"category\" data-category=\"dairy\">Milk</li>\n",
       "<li class=\"category\" data-category=\"fruit\">Orange</li>\n",
       "</ul>\n",
       "</section>\n",
       "<footer>\n",
       "<p>Contact us at support@example.com</p>\n",
       "</footer>\n",
       "</body>\n",
       "</html>"
      ]
     },
     "execution_count": 10,
     "metadata": {},
     "output_type": "execute_result"
    }
   ],
   "source": [
    "soup = BeautifulSoup(shopping_list, 'html.parser')\n",
    "soup"
   ]
  },
  {
   "cell_type": "code",
   "execution_count": 11,
   "metadata": {},
   "outputs": [
    {
     "data": {
      "text/plain": [
       "[<li class=\"category\" data-category=\"fruit\">Apple</li>,\n",
       " <li class=\"category\" data-category=\"fruit\">Banana</li>,\n",
       " <li class=\"category\" data-category=\"fruit\">Orange</li>]"
      ]
     },
     "execution_count": 11,
     "metadata": {},
     "output_type": "execute_result"
    }
   ],
   "source": [
    "section = soup.find('section', id='items')\n",
    "lis = section.find_all('li', attrs={'data-category': 'fruit'})\n",
    "lis\n"
   ]
  },
  {
   "cell_type": "raw",
   "metadata": {
    "vscode": {
     "languageId": "raw"
    }
   },
   "source": [
    "cat filename: show entire file\n",
    "head fillename: show the first n lines of code\n",
    "tail fillename: show the last n lines of code\n",
    "wc -c (bytes) -l (lines) -m (chars) -w (words)\n",
    "grep -i (case insensitive) -n (display line numbers) -v (exclude) -c (count)\n",
    "grep -c \"^$\" count num of empty lines\n",
    "grep -A 3 (matching line + 3 that follow) -B 3 (match + 3 that precede) -C (both)\n",
    "tr (translate or delete chars) -d (delete) -s (squeeze)\n",
    "tr \"\\n\" \" \" (new lines into spaces)\n",
    "tr -d \"\\r\" | grep -v \"^$\" (clean empty lines)\n",
    "sort (alphabetically) -n (numerically) -r (reverse)\n",
    "uniq (unique lines) -c \n",
    "cut -d ',' -f 2 (separates via ',' then grabs the 2nd separation)\n",
    "sed 's/old_string/new_string/g' (s = sub, g = global)\n",
    "paste -d ',' file1.txt file2.txt (combines with ,)"
   ]
  },
  {
   "cell_type": "raw",
   "metadata": {},
   "source": [
    "cat dataset.txt | grep -C 3 item49 (grep -C 3 item49 dataset.txt)\n",
    "grep -v 'out of stock'\n",
    "cat list.txt | grep 'done$' (only the lines that end with the word ”done”. )\n",
    "grep -v 'out of stock' inventory.txt > tmp.txt && cat tmp.txt > inventory.txt\n",
    "sed '/end/q' file.txt (You have a file named ”file.txt” with 100 lines of text, but you want to see all lines that come before the line that contains the word ”end”. Which command should you use?)"
   ]
  },
  {
   "cell_type": "raw",
   "metadata": {
    "vscode": {
     "languageId": "raw"
    }
   },
   "source": [
    "CI means (350,356),CI median (140,110)\n",
    "CI means (271,360),CI median (118,120)\n",
    "cat means_median.txt | cut -d ' ' -f 3,5 | tr -d '[()CI ]' | cut -d ',' -f 1,3,4\n",
    "350,140,110\n",
    "271,118,120"
   ]
  },
  {
   "cell_type": "raw",
   "metadata": {
    "vscode": {
     "languageId": "raw"
    }
   },
   "source": [
    "\"orange, banana and apple\",\"sugar, salt and pepper\" to orange, banana and apple:sugar, salt and pepper\n",
    "cat ingredients.txt | sed 's/\",\"/:/g' | tr -d '\\\"'"
   ]
  },
  {
   "cell_type": "raw",
   "metadata": {
    "vscode": {
     "languageId": "raw"
    }
   },
   "source": [
    "cat content.txt | tr '\\n' ',' | sed 's/,$//g' (remove , at the end)"
   ]
  },
  {
   "cell_type": "raw",
   "metadata": {
    "vscode": {
     "languageId": "raw"
    }
   },
   "source": [
    "Results Group A:\n",
    "Mean (74,79), Median (68,72)\n",
    "Results Group B:\n",
    "Mean (65,70), Median (60,65)\n",
    "Results Group C:\n",
    "Mean (90,95), Median (85,89)\n",
    "cat trainlogs.txt | sed 's/Results //g' | tr '\\n' ' ' | sed 's/) /)\\n/g'\n",
    "Group A: Mean (74,79), Median (68,72)\n",
    "Group B: Mean (65,70), Median (60,65)\n",
    "Group C: Mean (90,95), Median (85,89)"
   ]
  },
  {
   "cell_type": "raw",
   "metadata": {
    "vscode": {
     "languageId": "raw"
    }
   },
   "source": [
    "echo \"I\\tLove\\tNY\" | cut -f 3 (returns NY)"
   ]
  },
  {
   "cell_type": "code",
   "execution_count": 12,
   "metadata": {},
   "outputs": [
    {
     "name": "stdout",
     "output_type": "stream",
     "text": [
      "[1, 4, 9, 16]\n"
     ]
    }
   ],
   "source": [
    "def square(x):\n",
    "    return x * x\n",
    "nums = [1, 2, 3, 4]\n",
    "result = map(square, nums)\n",
    "print(list(result))"
   ]
  },
  {
   "cell_type": "code",
   "execution_count": 13,
   "metadata": {},
   "outputs": [
    {
     "name": "stdout",
     "output_type": "stream",
     "text": [
      "[5, 7, 9]\n"
     ]
    }
   ],
   "source": [
    "def add(x, y):\n",
    "    return x + y\n",
    "num1 = [1, 2, 3]\n",
    "num2 = [4, 5, 6]\n",
    "result = map(add, num1, num2)\n",
    "print(list(result))"
   ]
  },
  {
   "cell_type": "code",
   "execution_count": 14,
   "metadata": {},
   "outputs": [
    {
     "data": {
      "text/plain": [
       "[1, 4, 9]"
      ]
     },
     "execution_count": 14,
     "metadata": {},
     "output_type": "execute_result"
    }
   ],
   "source": [
    "result = map(lambda x: x * x, num1)\n",
    "list(result)"
   ]
  },
  {
   "cell_type": "code",
   "execution_count": 15,
   "metadata": {},
   "outputs": [
    {
     "data": {
      "text/plain": [
       "a    1\n",
       "b    2\n",
       "c    3\n",
       "dtype: int64"
      ]
     },
     "execution_count": 15,
     "metadata": {},
     "output_type": "execute_result"
    }
   ],
   "source": [
    "d = {'a': 1, 'b': 2, 'c': 3}\n",
    "ser = pd.Series(d)\n",
    "ser"
   ]
  },
  {
   "cell_type": "code",
   "execution_count": 16,
   "metadata": {},
   "outputs": [
    {
     "data": {
      "text/plain": [
       "Index(['a', 'b', 'c'], dtype='object')"
      ]
     },
     "execution_count": 16,
     "metadata": {},
     "output_type": "execute_result"
    }
   ],
   "source": [
    "ser.index"
   ]
  },
  {
   "cell_type": "code",
   "execution_count": 17,
   "metadata": {},
   "outputs": [
    {
     "data": {
      "text/plain": [
       "array([1, 2, 3])"
      ]
     },
     "execution_count": 17,
     "metadata": {},
     "output_type": "execute_result"
    }
   ],
   "source": [
    "ser.values"
   ]
  },
  {
   "cell_type": "code",
   "execution_count": 18,
   "metadata": {},
   "outputs": [
    {
     "data": {
      "text/plain": [
       "a    1\n",
       "c    3\n",
       "dtype: int64"
      ]
     },
     "execution_count": 18,
     "metadata": {},
     "output_type": "execute_result"
    }
   ],
   "source": [
    "ser.filter(['a', 'c'])"
   ]
  },
  {
   "cell_type": "code",
   "execution_count": 19,
   "metadata": {},
   "outputs": [
    {
     "data": {
      "text/html": [
       "<div>\n",
       "<style scoped>\n",
       "    .dataframe tbody tr th:only-of-type {\n",
       "        vertical-align: middle;\n",
       "    }\n",
       "\n",
       "    .dataframe tbody tr th {\n",
       "        vertical-align: top;\n",
       "    }\n",
       "\n",
       "    .dataframe thead th {\n",
       "        text-align: right;\n",
       "    }\n",
       "</style>\n",
       "<table border=\"1\" class=\"dataframe\">\n",
       "  <thead>\n",
       "    <tr style=\"text-align: right;\">\n",
       "      <th></th>\n",
       "      <th>ID Reference Number</th>\n",
       "      <th>Subject's race</th>\n",
       "      <th>Subject's gender</th>\n",
       "      <th>Subject's age</th>\n",
       "      <th>Ethnicity</th>\n",
       "      <th>District of occurrence</th>\n",
       "      <th>Adjacent to School</th>\n",
       "      <th>Assigned Division</th>\n",
       "      <th>Assigned Bureau</th>\n",
       "      <th>Event Date/Time</th>\n",
       "    </tr>\n",
       "  </thead>\n",
       "  <tbody>\n",
       "    <tr>\n",
       "      <th>0</th>\n",
       "      <td>1</td>\n",
       "      <td>Asian</td>\n",
       "      <td>Male</td>\n",
       "      <td>43</td>\n",
       "      <td>NON-HISPANIC</td>\n",
       "      <td>6.0</td>\n",
       "      <td>0</td>\n",
       "      <td>TOD</td>\n",
       "      <td>FSB</td>\n",
       "      <td>1/1/2021 1:07</td>\n",
       "    </tr>\n",
       "    <tr>\n",
       "      <th>1</th>\n",
       "      <td>2</td>\n",
       "      <td>Black/African American</td>\n",
       "      <td>Male</td>\n",
       "      <td>23</td>\n",
       "      <td>NON-HISPANIC</td>\n",
       "      <td>1.0</td>\n",
       "      <td>0</td>\n",
       "      <td>RCPD</td>\n",
       "      <td>NaN</td>\n",
       "      <td>1/1/2021 0:52</td>\n",
       "    </tr>\n",
       "    <tr>\n",
       "      <th>2</th>\n",
       "      <td>3</td>\n",
       "      <td>Black/African American</td>\n",
       "      <td>Male</td>\n",
       "      <td>18</td>\n",
       "      <td>NON-HISPANIC</td>\n",
       "      <td>1.0</td>\n",
       "      <td>0</td>\n",
       "      <td>RCPD</td>\n",
       "      <td>NaN</td>\n",
       "      <td>1/1/2021 0:52</td>\n",
       "    </tr>\n",
       "    <tr>\n",
       "      <th>3</th>\n",
       "      <td>4</td>\n",
       "      <td>Black/African American</td>\n",
       "      <td>Male</td>\n",
       "      <td>21</td>\n",
       "      <td>NON-HISPANIC</td>\n",
       "      <td>1.0</td>\n",
       "      <td>0</td>\n",
       "      <td>RCPD</td>\n",
       "      <td>NaN</td>\n",
       "      <td>1/1/2021 0:52</td>\n",
       "    </tr>\n",
       "    <tr>\n",
       "      <th>4</th>\n",
       "      <td>5</td>\n",
       "      <td>White</td>\n",
       "      <td>Female</td>\n",
       "      <td>38</td>\n",
       "      <td>HISPANIC</td>\n",
       "      <td>4.0</td>\n",
       "      <td>0</td>\n",
       "      <td>TOD</td>\n",
       "      <td>FSB</td>\n",
       "      <td>1/1/2021 3:00</td>\n",
       "    </tr>\n",
       "  </tbody>\n",
       "</table>\n",
       "</div>"
      ],
      "text/plain": [
       "   ID Reference Number           Subject's race Subject's gender  \\\n",
       "0                     1                   Asian             Male   \n",
       "1                     2  Black/African American             Male   \n",
       "2                     3  Black/African American             Male   \n",
       "3                     4  Black/African American             Male   \n",
       "4                     5                   White           Female   \n",
       "\n",
       "   Subject's age     Ethnicity  District of occurrence  Adjacent to School  \\\n",
       "0             43  NON-HISPANIC                     6.0                   0   \n",
       "1             23  NON-HISPANIC                     1.0                   0   \n",
       "2             18  NON-HISPANIC                     1.0                   0   \n",
       "3             21  NON-HISPANIC                     1.0                   0   \n",
       "4             38      HISPANIC                     4.0                   0   \n",
       "\n",
       "  Assigned Division Assigned Bureau Event Date/Time  \n",
       "0               TOD             FSB   1/1/2021 1:07  \n",
       "1              RCPD             NaN   1/1/2021 0:52  \n",
       "2              RCPD             NaN   1/1/2021 0:52  \n",
       "3              RCPD             NaN   1/1/2021 0:52  \n",
       "4               TOD             FSB   1/1/2021 3:00  "
      ]
     },
     "execution_count": 19,
     "metadata": {},
     "output_type": "execute_result"
    }
   ],
   "source": [
    "df = pd.read_csv(\"~/Downloads/police.csv\")\n",
    "df.head()"
   ]
  },
  {
   "cell_type": "code",
   "execution_count": 20,
   "metadata": {},
   "outputs": [
    {
     "data": {
      "text/plain": [
       "0        43.0\n",
       "1        23.0\n",
       "2        18.0\n",
       "3        21.0\n",
       "4        38.0\n",
       "         ... \n",
       "23505    30.0\n",
       "23506    60.0\n",
       "23507    22.0\n",
       "23508    25.0\n",
       "23509    24.0\n",
       "Name: Subject's age, Length: 23502, dtype: float64"
      ]
     },
     "execution_count": 20,
     "metadata": {},
     "output_type": "execute_result"
    }
   ],
   "source": [
    "df['Subject\\'s age'].where(lambda x: x < 98).dropna()"
   ]
  },
  {
   "cell_type": "code",
   "execution_count": 21,
   "metadata": {},
   "outputs": [
    {
     "data": {
      "text/plain": [
       "0    A. S.\n",
       "1    B. J.\n",
       "2    C. B.\n",
       "dtype: object"
      ]
     },
     "execution_count": 21,
     "metadata": {},
     "output_type": "execute_result"
    }
   ],
   "source": [
    "def get_initials(name):\n",
    "    first_last = name.split()\n",
    "    return f\"{first_last[0][0]}. {first_last[1][0]}.\"\n",
    "names = pd.Series(['Alice Smith', 'Bob Johnson', 'Charlie Brown'])\n",
    "names.apply(get_initials)\n"
   ]
  },
  {
   "cell_type": "code",
   "execution_count": 22,
   "metadata": {},
   "outputs": [
    {
     "data": {
      "text/plain": [
       "0    0.867925\n",
       "1    0.000000\n",
       "2    0.698113\n",
       "3    1.000000\n",
       "4    0.358491\n",
       "dtype: float64"
      ]
     },
     "execution_count": 22,
     "metadata": {},
     "output_type": "execute_result"
    }
   ],
   "source": [
    "scores = pd.Series([88, 42, 79, 95, 61])\n",
    "s_min = scores.min()\n",
    "s_max = scores.max()\n",
    "\n",
    "scores.apply(lambda x: (x - s_min) / (s_max - s_min))"
   ]
  },
  {
   "cell_type": "code",
   "execution_count": 23,
   "metadata": {},
   "outputs": [
    {
     "data": {
      "text/plain": [
       "0    Pass\n",
       "1    Fail\n",
       "2    Pass\n",
       "3    Pass\n",
       "4    Pass\n",
       "dtype: object"
      ]
     },
     "execution_count": 23,
     "metadata": {},
     "output_type": "execute_result"
    }
   ],
   "source": [
    "def pass_or_fail(grade):\n",
    "    if grade >= 60:\n",
    "        return 'Pass'\n",
    "    else: \n",
    "        return 'Fail'\n",
    "scores.apply(pass_or_fail)"
   ]
  },
  {
   "cell_type": "code",
   "execution_count": 24,
   "metadata": {},
   "outputs": [
    {
     "data": {
      "text/plain": [
       "0    88\n",
       "1    42\n",
       "dtype: int64"
      ]
     },
     "execution_count": 24,
     "metadata": {},
     "output_type": "execute_result"
    }
   ],
   "source": [
    "scores[scores % 2 == 0]"
   ]
  },
  {
   "cell_type": "code",
   "execution_count": 25,
   "metadata": {},
   "outputs": [
    {
     "data": {
      "text/plain": [
       "0           Adult\n",
       "1           Adult\n",
       "2        Teenager\n",
       "3           Adult\n",
       "4           Adult\n",
       "           ...   \n",
       "23505       Adult\n",
       "23506       Adult\n",
       "23507       Adult\n",
       "23508       Adult\n",
       "23509       Adult\n",
       "Name: Subject's age, Length: 23510, dtype: object"
      ]
     },
     "execution_count": 25,
     "metadata": {},
     "output_type": "execute_result"
    }
   ],
   "source": [
    "def classify_age(age):\n",
    "    if age >= 65:\n",
    "        return \"Senior\"\n",
    "    if age >= 20:\n",
    "        return \"Adult\"\n",
    "    if age >= 13:\n",
    "        return \"Teenager\"\n",
    "    else:\n",
    "        return \"Child\"\n",
    "\n",
    "df['Subject\\'s age'].apply(classify_age)"
   ]
  },
  {
   "cell_type": "code",
   "execution_count": 26,
   "metadata": {},
   "outputs": [
    {
     "data": {
      "text/plain": [
       "2    25\n",
       "3    35\n",
       "4    45\n",
       "5    55\n",
       "dtype: int64"
      ]
     },
     "execution_count": 26,
     "metadata": {},
     "output_type": "execute_result"
    }
   ],
   "source": [
    "data = pd.Series([5, 15, 25, 35, 45, 55, 65, 75, 85, 95])\n",
    "data[2:7][data[2:7] < 60]"
   ]
  },
  {
   "cell_type": "code",
   "execution_count": 27,
   "metadata": {},
   "outputs": [
    {
     "data": {
      "text/plain": [
       "0      1\n",
       "3      4\n",
       "6      7\n",
       "9     10\n",
       "12    13\n",
       "15    16\n",
       "18    19\n",
       "dtype: int64"
      ]
     },
     "execution_count": 27,
     "metadata": {},
     "output_type": "execute_result"
    }
   ],
   "source": [
    "data = pd.Series(range(1, 21))\n",
    "data[0::3]"
   ]
  },
  {
   "cell_type": "code",
   "execution_count": 29,
   "metadata": {},
   "outputs": [
    {
     "data": {
      "text/plain": [
       "5      6\n",
       "7      8\n",
       "9     10\n",
       "11    12\n",
       "13    14\n",
       "15    16\n",
       "17    18\n",
       "19    20\n",
       "dtype: int64"
      ]
     },
     "execution_count": 29,
     "metadata": {},
     "output_type": "execute_result"
    }
   ],
   "source": [
    "data[5::2]"
   ]
  },
  {
   "cell_type": "code",
   "execution_count": 40,
   "metadata": {},
   "outputs": [
    {
     "data": {
      "text/plain": [
       "7    10\n",
       "0     2\n",
       "2     9\n",
       "6     1\n",
       "3     6\n",
       "5    10\n",
       "1     5\n",
       "4     2\n",
       "dtype: int64"
      ]
     },
     "execution_count": 40,
     "metadata": {},
     "output_type": "execute_result"
    }
   ],
   "source": [
    "bees = pd.Series([True, True, False, np.nan, True, False, True, np.nan])\n",
    "knees = pd.Series([5,2,9,1,3,10,5,2], index = [7,0,2,6,3,5,1,4])\n",
    "\n",
    "null_bees = bees[bees.isna()]\n",
    "null_bees.index\n",
    "knees[null_bees.index] = knees[null_bees.index] * 2\n",
    "knees"
   ]
  },
  {
   "cell_type": "code",
   "execution_count": 41,
   "metadata": {},
   "outputs": [
    {
     "name": "stdout",
     "output_type": "stream",
     "text": [
      "0 civic 5000\n",
      "1 civic 7600\n",
      "2 camry 9000\n",
      "3 mustang 8500\n",
      "4 mustang 7000\n"
     ]
    },
    {
     "data": {
      "text/plain": [
       "[0, 4]"
      ]
     },
     "execution_count": 41,
     "metadata": {},
     "output_type": "execute_result"
    }
   ],
   "source": [
    "asking_prices = pd.Series([5000, 7600, 9000, 8500, 7000],\n",
    "index=['civic', 'civic', 'camry', 'mustang', 'mustang'])\n",
    "fair_prices = pd.Series([5500, 7500, 7500], index=['civic', 'mustang', 'camry'])\n",
    "ans = []\n",
    "i = 0\n",
    "for index, v in asking_prices.items():\n",
    "    print(i, index, v)\n",
    "    if v <= fair_prices[index]:\n",
    "        ans.append(i)\n",
    "    i += 1\n",
    "ans"
   ]
  }
 ],
 "metadata": {
  "kernelspec": {
   "display_name": "Python 3",
   "language": "python",
   "name": "python3"
  },
  "language_info": {
   "codemirror_mode": {
    "name": "ipython",
    "version": 3
   },
   "file_extension": ".py",
   "mimetype": "text/x-python",
   "name": "python",
   "nbconvert_exporter": "python",
   "pygments_lexer": "ipython3",
   "version": "3.11.9"
  }
 },
 "nbformat": 4,
 "nbformat_minor": 2
}
