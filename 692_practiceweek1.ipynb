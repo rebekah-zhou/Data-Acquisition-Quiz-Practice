{
 "cells": [
  {
   "cell_type": "code",
   "execution_count": 207,
   "metadata": {},
   "outputs": [],
   "source": [
    "import sys\n",
    "import requests\n",
    "import argparse\n",
    "import numpy as np\n",
    "import re\n",
    "import pandas as pd\n",
    "from bs4 import BeautifulSoup"
   ]
  },
  {
   "cell_type": "code",
   "execution_count": 310,
   "metadata": {},
   "outputs": [
    {
     "data": {
      "text/plain": [
       "<html>\n",
       "<head><title>Table Example</title></head>\n",
       "<body>\n",
       "<table>\n",
       "<caption id=\"summary\">Summary Table</caption>\n",
       "<tr>\n",
       "<th>Item</th>\n",
       "<th>Quantity</th>\n",
       "</tr>\n",
       "<tr>\n",
       "<td>Apples</td>\n",
       "<td>10</td>\n",
       "</tr>\n",
       "</table>\n",
       "<table>\n",
       "<caption id=\"details\">Details Table</caption>\n",
       "<tr>\n",
       "<th>Date</th>\n",
       "<th>Event</th>\n",
       "</tr>\n",
       "<tr>\n",
       "<td>2024-08-01</td>\n",
       "<td>Meeting</td>\n",
       "</tr>\n",
       "</table>\n",
       "</body>\n",
       "</html>"
      ]
     },
     "execution_count": 310,
     "metadata": {},
     "output_type": "execute_result"
    }
   ],
   "source": [
    "html_content = open('/Users/leahashebir/Downloads/real_test.html','r')\n",
    "result = html_content.read()\n",
    "soup = BeautifulSoup(result,'lxml')\n",
    "soup"
   ]
  },
  {
   "cell_type": "code",
   "execution_count": 316,
   "metadata": {},
   "outputs": [
    {
     "name": "stdout",
     "output_type": "stream",
     "text": [
      "Question 1a:\n"
     ]
    },
    {
     "data": {
      "text/plain": [
       "[<caption id=\"details\">Details Table</caption>]"
      ]
     },
     "execution_count": 316,
     "metadata": {},
     "output_type": "execute_result"
    }
   ],
   "source": [
    "#id = details\n",
    "print(\"Question 1a:\")\n",
    "soup.find_all(id = 'details')"
   ]
  },
  {
   "cell_type": "code",
   "execution_count": null,
   "metadata": {},
   "outputs": [
    {
     "name": "stdout",
     "output_type": "stream",
     "text": [
      "Question 1b:\n"
     ]
    },
    {
     "data": {
      "text/plain": [
       "[['Item'], ['Quantity'], ['Date'], ['Event']]"
      ]
     },
     "execution_count": 91,
     "metadata": {},
     "output_type": "execute_result"
    }
   ],
   "source": [
    "print(\"Question 1b:\")\n",
    "[x.contents for x in soup.find_all(\"th\")]\n",
    "\n"
   ]
  },
  {
   "cell_type": "code",
   "execution_count": 306,
   "metadata": {},
   "outputs": [],
   "source": [
    "# content = '''<div id=\"product-info\" class=\"product featured\" data-category=\"electronics\"\n",
    "# data-price=\"499.99\" style=\"background-color: #f9f9f9;\">\n",
    "# <h2>Smartphone X</h2>\n",
    "# <p>Latest model with advanced features.</p>\n",
    "# </div>'''\n",
    "# soup2 = BeautifulSoup(content, 'lxml')\n",
    "# soup2"
   ]
  },
  {
   "cell_type": "code",
   "execution_count": null,
   "metadata": {},
   "outputs": [
    {
     "name": "stdout",
     "output_type": "stream",
     "text": [
      "Question 2\n"
     ]
    },
    {
     "data": {
      "text/plain": [
       "{'id': 'product-info',\n",
       " 'class': ['product', 'featured'],\n",
       " 'data-category': 'electronics',\n",
       " 'data-price': '499.99',\n",
       " 'style': 'background-color: #f9f9f9;'}"
      ]
     },
     "execution_count": 97,
     "metadata": {},
     "output_type": "execute_result"
    }
   ],
   "source": [
    "print(\"Question 2\")\n",
    "div = soup2.find('div', id = 'product-info')\n",
    "div.attrs"
   ]
  },
  {
   "cell_type": "markdown",
   "metadata": {},
   "source": [
    "## Command Line Practice"
   ]
  },
  {
   "cell_type": "code",
   "execution_count": null,
   "metadata": {},
   "outputs": [],
   "source": [
    "# cat CLpractice1.txt|tr -d \"CI means median\" | tr -d \"()\" | cut -d \",\" -f1,3,4"
   ]
  },
  {
   "cell_type": "code",
   "execution_count": null,
   "metadata": {},
   "outputs": [],
   "source": [
    "# cat CLpractice2.txt | grep \", USA\" | cut -d \",\" -f3"
   ]
  },
  {
   "cell_type": "code",
   "execution_count": null,
   "metadata": {},
   "outputs": [],
   "source": [
    "#cat CIpractice3.txt | sed \"s/\\\",\\\"/:/g\" | sed 's/\"//g'"
   ]
  },
  {
   "cell_type": "code",
   "execution_count": null,
   "metadata": {},
   "outputs": [],
   "source": [
    "# cut -d \",\" -f3,4 employees.csv"
   ]
  },
  {
   "cell_type": "code",
   "execution_count": null,
   "metadata": {},
   "outputs": [],
   "source": [
    "# cat CIpractice6.txt | tr \"\\n\" \",\" | sed \"s/,$/\\n/g\""
   ]
  },
  {
   "cell_type": "code",
   "execution_count": null,
   "metadata": {},
   "outputs": [],
   "source": [
    "# cat CIpractice7.txt | cut -d \",\" -f1,2,4"
   ]
  },
  {
   "cell_type": "code",
   "execution_count": null,
   "metadata": {},
   "outputs": [],
   "source": [
    "# cat CIpractice8.txt | tr \"\\n\" \" \"  | sed \"s/Results/;/g\" | sed \"s/ $/\\n/g\" | tr \";\" \"\\n\" | sed \"/^$/d\""
   ]
  },
  {
   "cell_type": "markdown",
   "metadata": {},
   "source": [
    "## Pandas Practice"
   ]
  },
  {
   "cell_type": "code",
   "execution_count": null,
   "metadata": {},
   "outputs": [
    {
     "name": "stdout",
     "output_type": "stream",
     "text": [
      "Question 1:\n"
     ]
    },
    {
     "data": {
      "text/plain": [
       "0    A.S.\n",
       "1    B.J.\n",
       "2    C.B.\n",
       "dtype: object"
      ]
     },
     "execution_count": 133,
     "metadata": {},
     "output_type": "execute_result"
    }
   ],
   "source": [
    "print(\"Question 1:\")\n",
    "names = pd.Series(['Alice Smith', 'Bob Johnson', 'Charlie Brown'])\n",
    "new_names = names.apply(lambda x: str(x.split()[0][0] + '.' + x.split()[1][0]+ '.'))\n",
    "new_names"
   ]
  },
  {
   "cell_type": "code",
   "execution_count": null,
   "metadata": {},
   "outputs": [
    {
     "name": "stdout",
     "output_type": "stream",
     "text": [
      "Question 2.1:\n"
     ]
    },
    {
     "data": {
      "text/plain": [
       "0    0.867925\n",
       "1    0.000000\n",
       "2    0.698113\n",
       "3    1.000000\n",
       "4    0.358491\n",
       "dtype: float64"
      ]
     },
     "execution_count": 205,
     "metadata": {},
     "output_type": "execute_result"
    }
   ],
   "source": [
    "print(\"Question 2.1:\")\n",
    "scores = pd.Series([88, 42, 79, 95, 61])\n",
    "min = scores.min()\n",
    "my_range = scores.max() - min\n",
    "normalized_scores = scores.apply(lambda x: (x-min)/my_range)\n",
    "normalized_scores"
   ]
  },
  {
   "cell_type": "code",
   "execution_count": null,
   "metadata": {},
   "outputs": [
    {
     "name": "stdout",
     "output_type": "stream",
     "text": [
      "Question 2.2:\n"
     ]
    },
    {
     "data": {
      "text/plain": [
       "0    88\n",
       "1    42\n",
       "2    79\n",
       "3    95\n",
       "4    61\n",
       "dtype: int64"
      ]
     },
     "execution_count": 173,
     "metadata": {},
     "output_type": "execute_result"
    }
   ],
   "source": [
    "print(\"Question 2.2:\")\n",
    "# masked = scores.mask(lambda x: x>=60, \"Pass\")\n",
    "# masked = masked.mask(lambda x: x<60  if x.isint() == True else \"Pass\", \"Fail\")\n",
    "# masked\n",
    "categorized = scores.apply(lambda x: \"Pass\" if x>=60 else \"Fail\")\n",
    "# categorized\n",
    "scores"
   ]
  },
  {
   "cell_type": "code",
   "execution_count": null,
   "metadata": {},
   "outputs": [
    {
     "name": "stdout",
     "output_type": "stream",
     "text": [
      "Question 3:\n"
     ]
    },
    {
     "data": {
      "text/plain": [
       "0    88.0\n",
       "1    42.0\n",
       "dtype: float64"
      ]
     },
     "execution_count": 178,
     "metadata": {},
     "output_type": "execute_result"
    }
   ],
   "source": [
    "print(\"Question 3:\")\n",
    "scores.mask(lambda x: x%2 != 0).dropna()"
   ]
  },
  {
   "cell_type": "code",
   "execution_count": null,
   "metadata": {},
   "outputs": [
    {
     "name": "stdout",
     "output_type": "stream",
     "text": [
      "Question 4:\n"
     ]
    },
    {
     "data": {
      "text/plain": [
       "0    Teenager\n",
       "1      Senior\n",
       "2       Adult\n",
       "3       Adult\n",
       "4       Adult\n",
       "dtype: object"
      ]
     },
     "execution_count": 189,
     "metadata": {},
     "output_type": "execute_result"
    }
   ],
   "source": [
    "print(\"Question 4:\")\n",
    "ages = pd.Series([14,70,56,26,40])\n",
    "def classify(x):\n",
    "    if x >=13 and x <= 19:\n",
    "        x = \"Teenager\"\n",
    "    elif x > 19 and x<=64:\n",
    "        x = \"Adult\"\n",
    "    elif x > 65:\n",
    "        x = \"Senior\"\n",
    "    return x\n",
    "\n",
    "ages.apply(classify)"
   ]
  },
  {
   "cell_type": "code",
   "execution_count": 211,
   "metadata": {},
   "outputs": [
    {
     "name": "stdout",
     "output_type": "stream",
     "text": [
      "Question 5:\n"
     ]
    },
    {
     "data": {
      "text/plain": [
       "2    25.0\n",
       "3    35.0\n",
       "4    45.0\n",
       "5    55.0\n",
       "dtype: float64"
      ]
     },
     "execution_count": 211,
     "metadata": {},
     "output_type": "execute_result"
    }
   ],
   "source": [
    "print(\"Question 5:\")\n",
    "data = pd.Series([5, 15, 25, 35, 45, 55, 65, 75, 85, 95])\n",
    "filtered = data.iloc[2:7].mask(lambda x: x >=60).dropna()\n",
    "filtered"
   ]
  },
  {
   "cell_type": "code",
   "execution_count": 212,
   "metadata": {},
   "outputs": [],
   "source": [
    "del range"
   ]
  },
  {
   "cell_type": "code",
   "execution_count": 223,
   "metadata": {},
   "outputs": [
    {
     "name": "stdout",
     "output_type": "stream",
     "text": [
      "Question 6.1:\n"
     ]
    },
    {
     "data": {
      "text/plain": [
       "0      1\n",
       "3      4\n",
       "6      7\n",
       "9     10\n",
       "12    13\n",
       "15    16\n",
       "18    19\n",
       "dtype: int64"
      ]
     },
     "execution_count": 223,
     "metadata": {},
     "output_type": "execute_result"
    }
   ],
   "source": [
    "print(\"Question 6.1:\")\n",
    "data = pd.Series(range(1, 21))\n",
    "data[::3]"
   ]
  },
  {
   "cell_type": "code",
   "execution_count": 222,
   "metadata": {},
   "outputs": [
    {
     "name": "stdout",
     "output_type": "stream",
     "text": [
      "Question 6.2:\n"
     ]
    },
    {
     "data": {
      "text/plain": [
       "5      6\n",
       "7      8\n",
       "9     10\n",
       "11    12\n",
       "13    14\n",
       "15    16\n",
       "17    18\n",
       "19    20\n",
       "dtype: int64"
      ]
     },
     "execution_count": 222,
     "metadata": {},
     "output_type": "execute_result"
    }
   ],
   "source": [
    "print(\"Question 6.2:\")\n",
    "data[5::2]"
   ]
  },
  {
   "cell_type": "code",
   "execution_count": 268,
   "metadata": {},
   "outputs": [
    {
     "name": "stdout",
     "output_type": "stream",
     "text": [
      "Question 7:\n"
     ]
    },
    {
     "data": {
      "text/plain": [
       "(0     True\n",
       " 1     True\n",
       " 2    False\n",
       " 3      NaN\n",
       " 4     True\n",
       " 5    False\n",
       " 6     True\n",
       " 7      NaN\n",
       " dtype: object,\n",
       " 7     5\n",
       " 0     2\n",
       " 2     9\n",
       " 6     1\n",
       " 3     3\n",
       " 5    10\n",
       " 1     5\n",
       " 4     2\n",
       " dtype: int64)"
      ]
     },
     "execution_count": 268,
     "metadata": {},
     "output_type": "execute_result"
    }
   ],
   "source": [
    "print(\"Question 7:\")\n",
    "bees = pd.Series([True, True, False, np.nan, True, False, True, np.nan])\n",
    "knees = pd.Series([5,2,9,1,3,10,5,2], index = [7,0,2,6,3,5,1,4])\n",
    "bees, knees"
   ]
  },
  {
   "cell_type": "code",
   "execution_count": 290,
   "metadata": {},
   "outputs": [],
   "source": [
    "def normie(ser):\n",
    "    copy = knees.copy().reset_index(drop=True)\n",
    "    for n in range(len(ser)):\n",
    "        if pd.isna(ser.iloc[n]):\n",
    "            copy.iloc[n] = copy.iloc[n]*2\n",
    "    return copy"
   ]
  },
  {
   "cell_type": "code",
   "execution_count": 291,
   "metadata": {},
   "outputs": [
    {
     "data": {
      "text/plain": [
       "0     5\n",
       "1     2\n",
       "2     9\n",
       "3     2\n",
       "4     3\n",
       "5    10\n",
       "6     5\n",
       "7     4\n",
       "dtype: int64"
      ]
     },
     "execution_count": 291,
     "metadata": {},
     "output_type": "execute_result"
    }
   ],
   "source": [
    "normie(bees)"
   ]
  },
  {
   "cell_type": "code",
   "execution_count": 238,
   "metadata": {},
   "outputs": [
    {
     "name": "stdout",
     "output_type": "stream",
     "text": [
      "Question 8:\n"
     ]
    },
    {
     "data": {
      "text/plain": [
       "(civic      5000\n",
       " civic      7600\n",
       " camry      9000\n",
       " mustang    8500\n",
       " mustang    7000\n",
       " dtype: int64,\n",
       " civic      5500\n",
       " mustang    7500\n",
       " camry      7500\n",
       " dtype: int64)"
      ]
     },
     "execution_count": 238,
     "metadata": {},
     "output_type": "execute_result"
    }
   ],
   "source": [
    "print(\"Question 8:\")\n",
    "asking_prices = pd.Series([5000, 7600, 9000, 8500, 7000],\n",
    "index=['civic', 'civic', 'camry', 'mustang', 'mustang'])\n",
    "fair_prices = pd.Series([5500, 7500, 7500], index=['civic', 'mustang', 'camry'])\n",
    "asking_prices, fair_prices"
   ]
  },
  {
   "cell_type": "code",
   "execution_count": 292,
   "metadata": {},
   "outputs": [],
   "source": [
    "#if asking < fair, return asking price\n",
    "def market_research(asking,market):\n",
    "    deals = []\n",
    "    for na in range(len(asking)):\n",
    "        for nm in range(len(market)):\n",
    "            if asking.index[na] == market.index[nm]:\n",
    "                if asking.iloc[na] < market.iloc[nm]:\n",
    "                    deals.append(asking.iloc[na])\n",
    "    return deals"
   ]
  },
  {
   "cell_type": "code",
   "execution_count": 293,
   "metadata": {},
   "outputs": [
    {
     "data": {
      "text/plain": [
       "[5000, 7000]"
      ]
     },
     "execution_count": 293,
     "metadata": {},
     "output_type": "execute_result"
    }
   ],
   "source": [
    "market_research(asking_prices, fair_prices)"
   ]
  }
 ],
 "metadata": {
  "kernelspec": {
   "display_name": "base",
   "language": "python",
   "name": "python3"
  },
  "language_info": {
   "codemirror_mode": {
    "name": "ipython",
    "version": 3
   },
   "file_extension": ".py",
   "mimetype": "text/x-python",
   "name": "python",
   "nbconvert_exporter": "python",
   "pygments_lexer": "ipython3",
   "version": "3.11.9"
  }
 },
 "nbformat": 4,
 "nbformat_minor": 2
}
